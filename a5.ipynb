{
 "cells": [
  {
   "cell_type": "code",
   "execution_count": 1,
   "metadata": {},
   "outputs": [
    {
     "name": "stdout",
     "output_type": "stream",
     "text": [
      "Recommendations for user aged 34: [984, 1083, 834]\n",
      "RMSE of the model: 1.3985110616255156\n"
     ]
    }
   ],
   "source": [
    "import pandas as pd\n",
    "import numpy as np\n",
    "from sklearn.model_selection import train_test_split\n",
    "from sklearn.metrics import mean_squared_error\n",
    "from scipy.sparse.linalg import svds\n",
    "from scipy.sparse import csr_matrix\n",
    "\n",
    "# Load the dataset\n",
    "data = pd.read_csv(r\"Womens Clothing E-Commerce Reviews.csv\")\n",
    "\n",
    "# Group by 'Age' and 'Clothing ID', and calculate the mean rating\n",
    "data = data.groupby([\"Age\", \"Clothing ID\"], as_index=False).agg({\"Rating\": \"mean\"})\n",
    "\n",
    "# Create the user-item matrix\n",
    "user_item_matrix = data.pivot(index=\"Age\", columns=\"Clothing ID\", values=\"Rating\").fillna(0)\n",
    "\n",
    "# Convert the user-item matrix to a sparse matrix\n",
    "user_item_sparse_matrix = csr_matrix(user_item_matrix.values)\n",
    "\n",
    "# Matrix factorization using Singular Value Decomposition (SVD)\n",
    "# Choosing k (number of latent features) as 2 for simplicity\n",
    "U, sigma, Vt = svds(user_item_sparse_matrix, k=2)\n",
    "sigma = np.diag(sigma)\n",
    "\n",
    "# Reconstruct the predicted ratings matrix\n",
    "predicted_ratings = np.dot(np.dot(U, sigma), Vt)\n",
    "predicted_ratings_df = pd.DataFrame(\n",
    "    predicted_ratings, columns=user_item_matrix.columns, index=user_item_matrix.index\n",
    ")\n",
    "\n",
    "# Define a recommendation function\n",
    "def recommend_items(user_age, num_recommendations=3):\n",
    "    if user_age not in predicted_ratings_df.index:\n",
    "        raise ValueError(\"User age not found in the dataset.\")\n",
    "\n",
    "    # Get the predicted ratings for the given user age\n",
    "    user_predictions = predicted_ratings_df.loc[user_age].sort_values(ascending=False)\n",
    "\n",
    "    # Select the top recommended items\n",
    "    recommended_items = user_predictions.head(num_recommendations).index.tolist()\n",
    "    return recommended_items\n",
    "\n",
    "# Attempt to get recommendations for a user aged 34\n",
    "try:\n",
    "    recommendations = recommend_items(user_age=34)\n",
    "    print(\"Recommendations for user aged 34:\", recommendations)\n",
    "except ValueError as e:\n",
    "    print(e)\n",
    "\n",
    "# Evaluate the model using Root Mean Squared Error (RMSE)\n",
    "\n",
    "# Split data into train and test sets\n",
    "train_data, test_data = train_test_split(data, test_size=0.2, random_state=42)\n",
    "\n",
    "# Create user-item matrices for train and test sets\n",
    "train_matrix = train_data.pivot(index=\"Age\", columns=\"Clothing ID\", values=\"Rating\").fillna(0)\n",
    "test_matrix = test_data.pivot(index=\"Age\", columns=\"Clothing ID\", values=\"Rating\").fillna(0)\n",
    "\n",
    "# Ensure the test matrix aligns with the predicted ratings dimensions\n",
    "common_indices = test_matrix.index.intersection(predicted_ratings_df.index)\n",
    "common_columns = test_matrix.columns.intersection(predicted_ratings_df.columns)\n",
    "test_matrix = test_matrix.loc[common_indices, common_columns]\n",
    "predicted_matrix = predicted_ratings_df.loc[common_indices, common_columns]\n",
    "\n",
    "# Calculate RMSE\n",
    "rmse = np.sqrt(mean_squared_error(test_matrix.values, predicted_matrix.values))\n",
    "print(\"RMSE of the model:\", rmse)\n"
   ]
  },
  {
   "cell_type": "markdown",
   "metadata": {},
   "source": [
    "Dataset Preparation:\n",
    "\n",
    "The dataset contains user reviews, including Age, Clothing ID, and Rating.\n",
    "The ratings are grouped by Age and Clothing ID, and their mean values are calculated to create a compact representation.\n",
    "User-Item Matrix:\n",
    "\n",
    "A user-item matrix is constructed, where rows represent users (ages), columns represent items (clothing IDs), and the values are ratings. Missing values are filled with 0.\n",
    "Matrix Factorization (SVD):\n",
    "\n",
    "Singular Value Decomposition (SVD) is applied to the sparse matrix. It breaks down the matrix into three components:\n",
    "U (user features),\n",
    "sigma (importance of features),\n",
    "Vt (item features).\n",
    "These are used to approximate the original matrix and predict missing ratings.\n",
    "Recommendation:\n",
    "\n",
    "Predicted ratings are stored in a new matrix.\n",
    "For a given user (age), the top n items with the highest predicted ratings are recommended.\n",
    "Evaluation (RMSE):\n",
    "\n",
    "The dataset is split into training and testing sets.\n",
    "Predicted ratings are compared with actual ratings in the test set.\n",
    "Root Mean Squared Error (RMSE) is calculated to measure prediction accuracy."
   ]
  }
 ],
 "metadata": {
  "kernelspec": {
   "display_name": "Python 3",
   "language": "python",
   "name": "python3"
  },
  "language_info": {
   "codemirror_mode": {
    "name": "ipython",
    "version": 3
   },
   "file_extension": ".py",
   "mimetype": "text/x-python",
   "name": "python",
   "nbconvert_exporter": "python",
   "pygments_lexer": "ipython3",
   "version": "3.11.2"
  }
 },
 "nbformat": 4,
 "nbformat_minor": 2
}
