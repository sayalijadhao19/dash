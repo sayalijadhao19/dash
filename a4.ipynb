{
 "cells": [
  {
   "cell_type": "code",
   "execution_count": 1,
   "metadata": {
    "id": "C14BJ2vhSFlU"
   },
   "outputs": [],
   "source": [
    "import pandas as pd\n",
    "from sklearn.model_selection import train_test_split\n",
    "from sklearn.ensemble import RandomForestClassifier\n",
    "from sklearn.metrics import accuracy_score, classification_report, confusion_matrix\n",
    "from sklearn.datasets import load_breast_cancer\n",
    "import numpy as np"
   ]
  },
  {
   "cell_type": "code",
   "execution_count": 2,
   "metadata": {
    "id": "TvBXGNblSMCS"
   },
   "outputs": [],
   "source": [
    "#Step 2: Loading the Breast Cancer dataset\n",
    "data = load_breast_cancer()\n",
    "df = pd.DataFrame(data.data, columns=data.feature_names)\n",
    "df['target'] = data.target # target: 0 = malignant, 1 = benign"
   ]
  },
  {
   "cell_type": "code",
   "execution_count": 3,
   "metadata": {
    "id": "k8t7mTx2ShN9"
   },
   "outputs": [],
   "source": [
    "# Step 3: Data Preprocessing (optional, depending on dataset)\n",
    "# In this case, the data is already preprocessed, but further normalization or feature selection may be added.\n",
    "# Step 4: Splitting the data into train and test sets\n",
    "X = df.drop(columns='target') # features\n",
    "y = df['target'] # target variable\n",
    "X_train, X_test, y_train, y_test = train_test_split(X, y, test_size=0.2, random_state=42)"
   ]
  },
  {
   "cell_type": "code",
   "execution_count": 6,
   "metadata": {
    "colab": {
     "base_uri": "https://localhost:8080/"
    },
    "id": "pFD_wxEgSj4q",
    "outputId": "59a6b2fc-c75e-4372-e7fa-0b8bdbeb8190"
   },
   "outputs": [
    {
     "name": "stdout",
     "output_type": "stream",
     "text": [
      "Model Accuracy: 0.9649122807017544\n",
      "\n",
      "Classification Report:\n",
      "               precision    recall  f1-score   support\n",
      "\n",
      "           0       0.98      0.93      0.95        43\n",
      "           1       0.96      0.99      0.97        71\n",
      "\n",
      "    accuracy                           0.96       114\n",
      "   macro avg       0.97      0.96      0.96       114\n",
      "weighted avg       0.97      0.96      0.96       114\n",
      "\n",
      "Confusion Matrix:\n",
      " [[40  3]\n",
      " [ 1 70]]\n"
     ]
    }
   ],
   "source": [
    "# Step 5: Training the model\n",
    "model = RandomForestClassifier(n_estimators=100, random_state=42)\n",
    "model.fit(X_train, y_train)\n",
    "# Step 6: Predicting and evaluating the model\n",
    "y_pred = model.predict(X_test)\n",
    "accuracy = accuracy_score(y_test, y_pred)\n",
    "print(\"Model Accuracy:\", accuracy)\n",
    "print(\"\\nClassification Report:\\n\", classification_report(y_test, y_pred))\n",
    "print(\"Confusion Matrix:\\n\", confusion_matrix(y_test, y_pred))"
   ]
  },
  {
   "cell_type": "code",
   "execution_count": 7,
   "metadata": {
    "id": "iwZt2-HtSm_p"
   },
   "outputs": [],
   "source": [
    "# Step 7: Making recommendations based on prediction outcomes\n",
    "def prognosis_recommendation(features):\n",
    "    \"\"\"\n",
    "    Function to provide prognosis recommendation based on model predictions.\n",
    "    :param features: Array of patient features\n",
    "    :return: String recommendation\n",
    "    \"\"\"\n",
    "    prediction = model.predict([features])\n",
    "    if prediction[0] == 0:\n",
    "        return \"High risk of malignant cancer. Immediate consultation and further tests recommended.\"\n",
    "    else:\n",
    "        return \"Benign results. Routine monitoring suggested, but follow up with a healthcare provider.\""
   ]
  },
  {
   "cell_type": "code",
   "execution_count": 8,
   "metadata": {
    "colab": {
     "base_uri": "https://localhost:8080/"
    },
    "id": "MYLiTXSmTIU7",
    "outputId": "365c7f20-e616-4269-eece-a31c370cdfd4"
   },
   "outputs": [
    {
     "name": "stdout",
     "output_type": "stream",
     "text": [
      "Recommendation: Benign results. Routine monitoring suggested, but follow up with a healthcare provider.\n"
     ]
    },
    {
     "name": "stderr",
     "output_type": "stream",
     "text": [
      "C:\\Users\\DELL\\AppData\\Roaming\\Python\\Python311\\site-packages\\sklearn\\base.py:450: UserWarning: X does not have valid feature names, but RandomForestClassifier was fitted with feature names\n",
      "  warnings.warn(\n"
     ]
    }
   ],
   "source": [
    "# Example usage\n",
    "example_patient =X_test.iloc[0].values\n",
    "recommendation = prognosis_recommendation(example_patient)\n",
    "print(\"Recommendation:\", recommendation)"
   ]
  },
  {
   "cell_type": "code",
   "execution_count": 9,
   "metadata": {
    "id": "eMQqd3GdFYXz"
   },
   "outputs": [
    {
     "name": "stdout",
     "output_type": "stream",
     "text": [
      "<class 'pandas.core.frame.DataFrame'>\n",
      "RangeIndex: 569 entries, 0 to 568\n",
      "Data columns (total 31 columns):\n",
      " #   Column                   Non-Null Count  Dtype  \n",
      "---  ------                   --------------  -----  \n",
      " 0   mean radius              569 non-null    float64\n",
      " 1   mean texture             569 non-null    float64\n",
      " 2   mean perimeter           569 non-null    float64\n",
      " 3   mean area                569 non-null    float64\n",
      " 4   mean smoothness          569 non-null    float64\n",
      " 5   mean compactness         569 non-null    float64\n",
      " 6   mean concavity           569 non-null    float64\n",
      " 7   mean concave points      569 non-null    float64\n",
      " 8   mean symmetry            569 non-null    float64\n",
      " 9   mean fractal dimension   569 non-null    float64\n",
      " 10  radius error             569 non-null    float64\n",
      " 11  texture error            569 non-null    float64\n",
      " 12  perimeter error          569 non-null    float64\n",
      " 13  area error               569 non-null    float64\n",
      " 14  smoothness error         569 non-null    float64\n",
      " 15  compactness error        569 non-null    float64\n",
      " 16  concavity error          569 non-null    float64\n",
      " 17  concave points error     569 non-null    float64\n",
      " 18  symmetry error           569 non-null    float64\n",
      " 19  fractal dimension error  569 non-null    float64\n",
      " 20  worst radius             569 non-null    float64\n",
      " 21  worst texture            569 non-null    float64\n",
      " 22  worst perimeter          569 non-null    float64\n",
      " 23  worst area               569 non-null    float64\n",
      " 24  worst smoothness         569 non-null    float64\n",
      " 25  worst compactness        569 non-null    float64\n",
      " 26  worst concavity          569 non-null    float64\n",
      " 27  worst concave points     569 non-null    float64\n",
      " 28  worst symmetry           569 non-null    float64\n",
      " 29  worst fractal dimension  569 non-null    float64\n",
      " 30  target                   569 non-null    int32  \n",
      "dtypes: float64(30), int32(1)\n",
      "memory usage: 135.7 KB\n",
      "Data Info:\n",
      "None\n",
      "\n",
      "\n",
      "Model Accuracy: 96.49%\n",
      "\n",
      "Classification Report:\n",
      "               precision    recall  f1-score   support\n",
      "\n",
      "           0       0.98      0.93      0.95        43\n",
      "           1       0.96      0.99      0.97        71\n",
      "\n",
      "    accuracy                           0.96       114\n",
      "   macro avg       0.97      0.96      0.96       114\n",
      "weighted avg       0.97      0.96      0.96       114\n",
      "\n",
      "Confusion Matrix:\n",
      " [[40  3]\n",
      " [ 1 70]]\n",
      "\n",
      "Recommendation for the Example Patient:\n",
      "Benign results. Routine monitoring suggested, but follow up with a healthcare provider.\n",
      "\n",
      "Additional Patient Recommendations:\n",
      "Patient 1: High risk of malignant cancer. Immediate consultation and further tests recommended.\n",
      "Patient 2: High risk of malignant cancer. Immediate consultation and further tests recommended.\n",
      "Patient 3: Benign results. Routine monitoring suggested, but follow up with a healthcare provider.\n"
     ]
    },
    {
     "name": "stderr",
     "output_type": "stream",
     "text": [
      "C:\\Users\\DELL\\AppData\\Roaming\\Python\\Python311\\site-packages\\sklearn\\base.py:450: UserWarning: X does not have valid feature names, but RandomForestClassifier was fitted with feature names\n",
      "  warnings.warn(\n",
      "C:\\Users\\DELL\\AppData\\Roaming\\Python\\Python311\\site-packages\\sklearn\\base.py:450: UserWarning: X does not have valid feature names, but RandomForestClassifier was fitted with feature names\n",
      "  warnings.warn(\n",
      "C:\\Users\\DELL\\AppData\\Roaming\\Python\\Python311\\site-packages\\sklearn\\base.py:450: UserWarning: X does not have valid feature names, but RandomForestClassifier was fitted with feature names\n",
      "  warnings.warn(\n",
      "C:\\Users\\DELL\\AppData\\Roaming\\Python\\Python311\\site-packages\\sklearn\\base.py:450: UserWarning: X does not have valid feature names, but RandomForestClassifier was fitted with feature names\n",
      "  warnings.warn(\n"
     ]
    }
   ],
   "source": [
    "import pandas as pd\n",
    "from sklearn.model_selection import train_test_split\n",
    "from sklearn.ensemble import RandomForestClassifier\n",
    "from sklearn.metrics import accuracy_score, classification_report, confusion_matrix\n",
    "from sklearn.datasets import load_breast_cancer\n",
    "import numpy as np\n",
    "\n",
    "# Step 1: Load the Breast Cancer dataset\n",
    "data = load_breast_cancer()\n",
    "df = pd.DataFrame(data.data, columns=data.feature_names)\n",
    "df['target'] = data.target  # target: 0 = malignant, 1 = benign\n",
    "\n",
    "# Step 2: Data Preprocessing (optional but can include normalization or feature selection)\n",
    "# In this case, the dataset is already well-preprocessed, but it's good practice to check for missing values or outliers.\n",
    "print(f\"Data Info:\\n{df.info()}\\n\")\n",
    "\n",
    "# Step 3: Splitting the data into features and target variable\n",
    "X = df.drop(columns='target')  # Features (all columns except the target)\n",
    "y = df['target']  # Target variable (0 = malignant, 1 = benign)\n",
    "\n",
    "# Step 4: Split the dataset into training and testing sets (80% train, 20% test)\n",
    "X_train, X_test, y_train, y_test = train_test_split(X, y, test_size=0.2, random_state=42)\n",
    "\n",
    "# Step 5: Model Training with RandomForestClassifier\n",
    "model = RandomForestClassifier(n_estimators=100, random_state=42)\n",
    "model.fit(X_train, y_train)\n",
    "\n",
    "# Step 6: Model Evaluation: Making predictions and evaluating the model\n",
    "y_pred = model.predict(X_test)\n",
    "\n",
    "# Evaluating accuracy of the model\n",
    "accuracy = accuracy_score(y_test, y_pred)\n",
    "print(f\"\\nModel Accuracy: {accuracy * 100:.2f}%\")\n",
    "\n",
    "# Displaying the Classification Report and Confusion Matrix for further evaluation\n",
    "print(\"\\nClassification Report:\\n\", classification_report(y_test, y_pred))\n",
    "print(\"Confusion Matrix:\\n\", confusion_matrix(y_test, y_pred))\n",
    "\n",
    "# Step 7: Making recommendations based on model predictions\n",
    "def prognosis_recommendation(features):\n",
    "    \"\"\"\n",
    "    Function to provide prognosis recommendations based on model predictions.\n",
    "    :param features: Array of patient features (values of the 30 features for a patient)\n",
    "    :return: String recommendation based on predicted outcome\n",
    "    \"\"\"\n",
    "    prediction = model.predict([features])  # Making prediction for the given features\n",
    "    if prediction[0] == 0:\n",
    "        return \"High risk of malignant cancer. Immediate consultation and further tests recommended.\"\n",
    "    else:\n",
    "        return \"Benign results. Routine monitoring suggested, but follow up with a healthcare provider.\"\n",
    "\n",
    "# Step 8: Example Usage for Patient Recommendation\n",
    "example_patient = X_test.iloc[0].values  # Selecting a random patient from the test set\n",
    "recommendation = prognosis_recommendation(example_patient)  # Get prognosis recommendation for the patient\n",
    "print(\"\\nRecommendation for the Example Patient:\")\n",
    "print(recommendation)\n",
    "\n",
    "# Optional: Show a few more example recommendations from the test set\n",
    "print(\"\\nAdditional Patient Recommendations:\")\n",
    "for i in range(1, 4):  # Displaying recommendations for first 3 patients in the test set\n",
    "    patient_features = X_test.iloc[i].values\n",
    "    rec = prognosis_recommendation(patient_features)\n",
    "    print(f\"Patient {i}: {rec}\")\n"
   ]
  },
  {
   "cell_type": "code",
   "execution_count": null,
   "metadata": {},
   "outputs": [],
   "source": []
  }
 ],
 "metadata": {
  "colab": {
   "provenance": []
  },
  "kernelspec": {
   "display_name": "Python 3",
   "name": "python3"
  },
  "language_info": {
   "codemirror_mode": {
    "name": "ipython",
    "version": 3
   },
   "file_extension": ".py",
   "mimetype": "text/x-python",
   "name": "python",
   "nbconvert_exporter": "python",
   "pygments_lexer": "ipython3",
   "version": "3.11.2"
  }
 },
 "nbformat": 4,
 "nbformat_minor": 0
}
